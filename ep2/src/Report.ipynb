{
 "cells": [
  {
   "cell_type": "markdown",
   "metadata": {},
   "source": [
    "\n",
    "# EP1 de Programacao Paralela e Distribuída - MAC5742\n",
    "\n"
   ]
  },
  {
   "cell_type": "markdown",
   "metadata": {},
   "source": [
    "| Nome | N° USP |\n",
    "|------|------|\n",
    "| Ariel Serranoni Soares da Silva| 7658024 |\n",
    "| Thiago Martinoni | 9793401 |\n"
   ]
  },
  {
   "cell_type": "markdown",
   "metadata": {},
   "source": [
    "## Resumo\n",
    "\n",
    "A ideia deste trabalho é continuar os estudos iniciados no [EP1](https://github.com/aserranoni/parallel-mandelbrot).\n",
    "Mais uma vez, implementaremos duas versões de um algorítmo que gera imagens do conjunto de Mandelbrot; a primeira delas utilizando OpenMPI e a segunda com o auxílio de um acelerador (GPU), usando CUDA. Além disso, vamos realizar experimentos e analisar o desempenho de cada programa afim de estudar brevemente o comportamento de cada implementação. Por fim, vamos comparar os resultados obtidos com os do EP1, em que implementamos versões com OpenMP e Pthreads do mesmo algorítmo. Os arquivos utilizados para a produção deste estudo encontram-se disponíveis [neste repositório](https://github.com/martinoni/parallel-ep2).\n",
    "\n",
    "## Implementações em C\n",
    "\n",
    "Como mencionado acima temos dois programas, cada um responsável por calcular o conjunto de mandelbrot utilizando um método diferente. Assim como fizemos no EP1, vamos mais uma vez comentar alguns detalhes das implementações que fizemos antes de continuarmos: \n",
    "\n",
    "Na versão implementada com OpenMPI, consideramos dois parâmetros `i_x_thread` e `i_y_thread`, percorrendo todos os `image_buffer_size` pixels da imagem. Sabendo o número `image_size` de pixels em cada linha, conseguimos descobrir a linha (`taskid/image_size`) e coluna (`taskid%image_size`) exatas de um pixel a partir do parâmetro `taskid`, que representa a identificação do processo a ser chamado. É importante que avisemos que, devido à falta de disponibilidade de máquinas com OpenMPI configurado, todos os processos MPI foram abertos no mesmo computador. Por este motivo, não conseguiremos  testar a capacidade real da biblioteca neste projeto, já que a ideia é que o trabalho seja dividido em um  número \n",
    "$N>1$ de máquinas.\n",
    "\n",
    "Já na versão CUDA, utilizamos dois parâmetros para a execução do programa: `blockDim` e `gridDim`, que representam as dimensões (x, y) dos blocos (organização das threads dentro dos blocos - determina quantas threads existe em cada bloco) e das grids (organização dos blocos na grid - determina quantos blocos existe na grid), respectivamente. Desta forma, conseguimos determinar as coordenadas (i_x, i_y) dos pixels em que cada thread trabalhará calculando `i_x=blockIdx.x*blockDim.x + threadIdx.x` e `i_y=blockIdx.y*blockDim.y + threadIdx.y`.\n",
    "\n",
    "Em ambas as versões que programamos, quando um processo ou thread acaba sua primeira tarefa, ele checa se todos os píxels da imagem já foram incluídos na lista de tarefas, e se não, ganha um novo valor e trabalha em cima do novo píxel. Desta forma, conseguimos abranger toda a imagem que será gerada independentemente do tamanho da mesma e sem nos preocuparmos com a divisibilidade de seu tamanho pelo número de threads/processos.\n",
    "\n",
    "#### Cálculos de tempo e de latência\n",
    "\n",
    "Neste trabalho estamos reutilizando toda a estrutura para medição de tempo feita no EP1. \n",
    "Vale ressaltar que iremos medir o tempo de execução dos programas desde seu início do até o término, incluindo o tempo de alocação de memória e da escrita do arquivo no disco.\n",
    "\n",
    "A razão para isso é que aumentar o número de threads e processos paralelos não nesessariamente implica numa diminuição do tempo de execução do programa. Isso acontece porque, no caso do MPI, não podemos desprezar o tempo que as trocas de mensagens entre os processos consomem. Similarmente, na versão CUDA o tempo de troca de informação da CPU (host) com o acelerador (device) deve ser levado em consideração. Além disso, em ambos as implementaçõestemos o tempo de alocação de memória, seja dentro de cada processo (MPI) ou dentro da GPU (CUDA).\n"
   ]
  },
  {
   "cell_type": "markdown",
   "metadata": {},
   "source": [
    "## Máquina utilizada\n",
    "A execução dos programas neste projeto foi feita na máquina `neozil`, da Rede Linux do IME. O computador suporta o CUDA Toolkit 9.1 e está equipado com duas GPUs Nvidia Tesla K20c SM35. Tais informações foram retiradas [deste site](https://linux.ime.usp.br/wiki/doku.php?id=faq:cuda)."
   ]
  },
  {
   "cell_type": "markdown",
   "metadata": {},
   "source": [
    "## Infra estrutura Python\n",
    "\n",
    "Para este relatório, utilizamos Jupyter notebooks e Python na versão 3.7.3. Tal escolha se deve à nossa maior familiaridade com\n",
    "a linguagem e também à quantidade de material de apoio disponível online. Apesar disso, aproveitamos muitas das ideias dos trabalhos anteriores para implementar uma série de funções que foram feitas em Julia anteriormente. A seguinte célula fará as importações necessárias dos pacotes Python:  "
   ]
  },
  {
   "cell_type": "code",
   "execution_count": 1,
   "metadata": {},
   "outputs": [],
   "source": [
    "import pandas as pd\n",
    "import os\n",
    "from tqdm import tqdm\n",
    "import matplotlib.pyplot as plt\n",
    "from mpl_toolkits.mplot3d import Axes3D\n",
    "import seaborn"
   ]
  },
  {
   "cell_type": "markdown",
   "metadata": {},
   "source": [
    "## Experimentos e Coleta de Dados \n",
    "\n",
    "Mais uma vez, para que tenhamos dados para serem analisados, precisamos executar chamadas das nossas implementações em C\n",
    "e armazenar seus resultados. A seguir, vamos descrever cada argumento da função `mandelbrot()`, que irá nos auxiliar nesta tarefa: \n",
    "\n",
    "O primeiro argumento `method` é uma string que determina qual das implementações\n",
    "em C deve ser chamada. Os valores possíveis para esta variável são `\"cuda\"`, e `\"mpi\"`. \n",
    "\n",
    "O segundo argumento `n_mpi` representa o número de processos abertos no programa que utiliza OpenMPI.\n",
    "\n",
    "O terceiro argumento `x_grid` para a versão em CUDA representa a coordenada x da organização de blocos dentro da grid.\n",
    "\n",
    "O quarto argumento `y_grid` para a versão em CUDA representa a coordenada y da organização de blocos dentro da grid.\n",
    "\n",
    "O quinto argumento `x_block` para a versão em CUDA representa a coordenada x da organização de threads dentro de cada bloco.\n",
    "\n",
    "O sexto argumento `y_block` para a versão em CUDA representa a coordenada y da organização de threads dentro de cada bloco.\n",
    "\n",
    "O sétimo argumento `n_thread` para as versões em OpenMP e PThreads representam o número de threads utilizadas na execução desses programas"
   ]
  },
  {
   "cell_type": "markdown",
   "metadata": {},
   "source": [
    "Antes de executarmos os programas em C, vamos compilá-los ao executar a seguinte célula:"
   ]
  },
  {
   "cell_type": "code",
   "execution_count": 63,
   "metadata": {},
   "outputs": [
    {
     "name": "stdout",
     "output_type": "stream",
     "text": [
      "['0.385341, 0.634258 , 0.634256']\n"
     ]
    },
    {
     "data": {
      "text/plain": [
       "{'method': 'ompi',\n",
       " 'duration_clock': '0.385341',\n",
       " 'duration_mono': '0.634258 ',\n",
       " 'duration_sys': '0.634256',\n",
       " 'n_mpi': 32,\n",
       " 'x_grid_cuda': '',\n",
       " 'y_grid_cuda': '',\n",
       " 'x_block_cuda': '',\n",
       " 'y_block_cuda': '',\n",
       " 'n_threads': '',\n",
       " 'interaction': None}"
      ]
     },
     "execution_count": 63,
     "metadata": {},
     "output_type": "execute_result"
    }
   ],
   "source": [
    "mandelbrot('ompi', c_x_min, c_x_max, c_y_min, c_y_max, image_size, 32)"
   ]
  },
  {
   "cell_type": "code",
   "execution_count": 65,
   "metadata": {},
   "outputs": [],
   "source": [
    "# Mandelbrot\n",
    "def mandelbrot(method, c_x_min, c_x_max, c_y_min, c_y_max, image_size, \n",
    "               n_mpi='', x_grid='', y_grid='', x_block='', y_block='', n_thread=''):\n",
    "    if method == 'ompi':\n",
    "        program = 'mpirun'\n",
    "        command = '--quiet --host localhost:%d mandelbrot_ompi %d %d %d %d %d' % (n_mpi, c_x_min, c_x_max, c_y_min, c_y_max, \n",
    "                                                                                  image_size)\n",
    "    else:\n",
    "        program = './mandelbrot_' + method\n",
    "        command = \" \".join([str(c_x_min), str(c_x_max), str(c_y_min), str(c_y_max), str(image_size), \n",
    "                          str(x_grid), str(y_grid), str(x_block), str(y_block), str(n_thread)])\n",
    "    \n",
    "    output = !{program} {command}  \n",
    "    output = output[0].split(', ')\n",
    "    infos = {'method': method, \n",
    "             'duration_clock': output[0],\n",
    "             'duration_mono': output[1],\n",
    "             'duration_sys': output[2],\n",
    "             'n_mpi':n_mpi, \n",
    "             'x_grid_cuda':x_grid, 'y_grid_cuda': y_grid, \n",
    "             'x_block_cuda': x_block, 'y_block_cuda':y_block,\n",
    "             'n_threads':n_thread,\n",
    "            'interaction': None}\n",
    "    return infos"
   ]
  },
  {
   "cell_type": "markdown",
   "metadata": {},
   "source": [
    "\n",
    "A função `run_experiments()`, que estamos utilizando desde o miniEP3, é a nossa principal fonte de dados. Ela nos permite variar todos os parâmetros das chamadas feitas pela função `mandelbrot()` e estabelecer um número de repetições através do através do argumento `repetitions`.\n",
    "Além disso, resultados são coletados e retornados na forma de um `DataFrame`. A função também recebe outros argumentos, que devem estar em forma de lista, e irão indicar quais parâmetros serão usados em cada uma das execuções dos programas em C.\n"
   ]
  },
  {
   "cell_type": "code",
   "execution_count": 66,
   "metadata": {},
   "outputs": [],
   "source": [
    "def run_experiments(methods, c_x_min, c_x_max, c_y_min, c_y_max, image_size, \n",
    "                    n_mpis=None, grids=None, blocks=None, n_threads = None, repetitions=15):\n",
    "    !make\n",
    "    results = []\n",
    "    for method in methods:\n",
    "        print('Running mandelbrot_' + method) \n",
    "        if method == 'mpi':\n",
    "            for n_mpi in n_mpis:\n",
    "                print('n_processes: %d' %  (n_mpi))\n",
    "                for i in tqdm(range(repetitions)):\n",
    "                    result = mandelbrot(method, c_x_min, c_x_max, c_y_min, c_y_max, image_size,\n",
    "                                       n_mpi)\n",
    "                    result['interaction'] = i+1\n",
    "                    results.append(result)\n",
    "        elif method == 'cuda':\n",
    "            for grid in grids:\n",
    "                for block in blocks:\n",
    "                    if grid != (1,1) or block != (1,1):\n",
    "                        print('Grid_dim: (%d, %d) and Block_dim: (%d, %d)' %  (grid[0], grid[1], block[0], block[1]))\n",
    "                        for i in tqdm(range(repetitions)):\n",
    "                            result = mandelbrot(method, c_x_min, c_x_max, c_y_min, c_y_max, image_size,\n",
    "                                               x_grid=grid[0], y_grid=grid[1],\n",
    "                                               x_block=block[0], y_block=block[1])\n",
    "                            result['interaction'] = i+1\n",
    "                            results.append(result)\n",
    "        elif method == 'seq':\n",
    "            for i in tqdm(range(repetitions)):\n",
    "                result = mandelbrot(method, c_x_min, c_x_max, c_y_min, c_y_max, image_size)\n",
    "                result['interaction'] = i+1\n",
    "                results.append(result)\n",
    "        elif method == 'pth' or method == 'omp':\n",
    "            for n_thread in n_threads:\n",
    "                print('n_threads: %d' %  (n_thread))\n",
    "                for i in tqdm(range(repetitions)):\n",
    "                    result = mandelbrot(method, c_x_min, c_x_max, c_y_min, c_y_max, image_size,\n",
    "                                        n_thread=n_thread)\n",
    "                    result['interaction'] = i+1\n",
    "                    results.append(result)\n",
    "\n",
    "    return results\n",
    "    "
   ]
  },
  {
   "cell_type": "markdown",
   "metadata": {},
   "source": [
    "Antes de iniciar os experimentos, vamos ajustar parâmetros da função `run_experiments()` conforme a tabela abaixo.\n",
    "É importante alertar que a execução dos experimentos pode demorar mais de três horas. Por este motivo, optamos por deixar a linha responsável por esta tarefa comentada.\n",
    "\n",
    "\n",
    "|         EP2      \t   | OpenMPI              | CUDA              \t                | \n",
    "|----------------------|----------------------|-------------------------------------|\n",
    "| Região               | Triple Spiral Valley | Triple Spiral Valley                |\n",
    "| Tamanho de Imagem    | 4096                 | 4096                                |\n",
    "| N° de processos  \t   | $1^2\\ldots 8^2$      | None              \t                |\n",
    "| Dimensões dos blocos | None \t              | (x, x) para x em $2^0\\ldots 2^{5}$ \t|\n",
    "| Dimensões do grid    | None              \t  | (x, x) para x em $2^0\\ldots 2^{7}$  |\n",
    "| Número de Interações | 15                   | 15                                  |\n",
    "\n",
    "|        EP1       \t| Sequencial         \t| Pthreads & OpenMp  \t| \n",
    "|----------------\t|--------------------\t|--------------------\t|\n",
    "| Região               | Triple Spiral Valley | Triple Spiral Valley                |\n",
    "| I/O e Alocação \t| Com          \t        | Com                \t|\n",
    "| N° de Threads  \t| 1                  \t| $2^1\\ldots 2^{10}$    \t|\n",
    "| Número de Interações | 15                   | 15                  |\n",
    "\n",
    "\n",
    "É importante notar que para a versão em MPI, devido ao funcionamento do algoritmo, os possíveis números de processos utilizados precisam ser quadrados perfeitos.\n",
    "Já na implementação em CUDA, o que determinará a performance do programa é simplesmente o número de threads ativas, e não a forma com que as organizamos nos blocos ou no grid. Apesar de estarmos utilizando organizações quadradas de threads dentro dos blocos e de blocos dentro do grid, qualquer combinação (x, y) é possível para os dois casos.\n",
    "\n",
    "Também ressaltamos que para cada família de arquiteturas da Nvidia existe um número máximo de threads por bloco, que no caso da Tesla é 1024. Por isso optamos por um máximo número de $32\\times32$ threads por bloco.\n"
   ]
  },
  {
   "cell_type": "code",
   "execution_count": null,
   "metadata": {},
   "outputs": [],
   "source": [
    "[2**x for x in range(0, 7)]"
   ]
  },
  {
   "cell_type": "code",
   "execution_count": 68,
   "metadata": {},
   "outputs": [
    {
     "name": "stdout",
     "output_type": "stream",
     "text": [
      "make: Nothing to be done for 'all'.\r\n"
     ]
    },
    {
     "name": "stderr",
     "output_type": "stream",
     "text": [
      "\r",
      "  0%|          | 0/15 [00:00<?, ?it/s]"
     ]
    },
    {
     "name": "stdout",
     "output_type": "stream",
     "text": [
      "Running mandelbrot_omp\n",
      "n_threads: 2\n"
     ]
    },
    {
     "name": "stderr",
     "output_type": "stream",
     "text": [
      "100%|██████████| 15/15 [00:00<00:00, 26.94it/s]\n",
      "  0%|          | 0/15 [00:00<?, ?it/s]"
     ]
    },
    {
     "name": "stdout",
     "output_type": "stream",
     "text": [
      "n_threads: 4\n"
     ]
    },
    {
     "name": "stderr",
     "output_type": "stream",
     "text": [
      "100%|██████████| 15/15 [00:00<00:00, 22.00it/s]\n",
      "  0%|          | 0/15 [00:00<?, ?it/s]"
     ]
    },
    {
     "name": "stdout",
     "output_type": "stream",
     "text": [
      "n_threads: 8\n"
     ]
    },
    {
     "name": "stderr",
     "output_type": "stream",
     "text": [
      "100%|██████████| 15/15 [00:00<00:00, 28.74it/s]\n",
      "  0%|          | 0/15 [00:00<?, ?it/s]"
     ]
    },
    {
     "name": "stdout",
     "output_type": "stream",
     "text": [
      "n_threads: 16\n"
     ]
    },
    {
     "name": "stderr",
     "output_type": "stream",
     "text": [
      "100%|██████████| 15/15 [00:00<00:00, 29.80it/s]\n",
      "  0%|          | 0/15 [00:00<?, ?it/s]"
     ]
    },
    {
     "name": "stdout",
     "output_type": "stream",
     "text": [
      "n_threads: 32\n"
     ]
    },
    {
     "name": "stderr",
     "output_type": "stream",
     "text": [
      "100%|██████████| 15/15 [00:00<00:00, 27.14it/s]\n",
      "  0%|          | 0/15 [00:00<?, ?it/s]"
     ]
    },
    {
     "name": "stdout",
     "output_type": "stream",
     "text": [
      "n_threads: 64\n"
     ]
    },
    {
     "name": "stderr",
     "output_type": "stream",
     "text": [
      "100%|██████████| 15/15 [00:01<00:00,  9.76it/s]\n",
      "  0%|          | 0/15 [00:00<?, ?it/s]"
     ]
    },
    {
     "name": "stdout",
     "output_type": "stream",
     "text": [
      "Running mandelbrot_ompi\n",
      "Running mandelbrot_pth\n",
      "n_threads: 2\n"
     ]
    },
    {
     "name": "stderr",
     "output_type": "stream",
     "text": [
      "100%|██████████| 15/15 [00:01<00:00,  8.41it/s]\n",
      "  0%|          | 0/15 [00:00<?, ?it/s]"
     ]
    },
    {
     "name": "stdout",
     "output_type": "stream",
     "text": [
      "n_threads: 4\n"
     ]
    },
    {
     "name": "stderr",
     "output_type": "stream",
     "text": [
      "100%|██████████| 15/15 [00:00<00:00, 26.75it/s]\n",
      "  0%|          | 0/15 [00:00<?, ?it/s]"
     ]
    },
    {
     "name": "stdout",
     "output_type": "stream",
     "text": [
      "n_threads: 8\n"
     ]
    },
    {
     "name": "stderr",
     "output_type": "stream",
     "text": [
      "100%|██████████| 15/15 [00:00<00:00, 16.83it/s]\n",
      "  0%|          | 0/15 [00:00<?, ?it/s]"
     ]
    },
    {
     "name": "stdout",
     "output_type": "stream",
     "text": [
      "n_threads: 16\n"
     ]
    },
    {
     "name": "stderr",
     "output_type": "stream",
     "text": [
      "100%|██████████| 15/15 [00:00<00:00, 16.03it/s]\n",
      "  0%|          | 0/15 [00:00<?, ?it/s]"
     ]
    },
    {
     "name": "stdout",
     "output_type": "stream",
     "text": [
      "n_threads: 32\n"
     ]
    },
    {
     "name": "stderr",
     "output_type": "stream",
     "text": [
      "100%|██████████| 15/15 [00:00<00:00, 17.20it/s]\n",
      "  0%|          | 0/15 [00:00<?, ?it/s]"
     ]
    },
    {
     "name": "stdout",
     "output_type": "stream",
     "text": [
      "n_threads: 64\n"
     ]
    },
    {
     "name": "stderr",
     "output_type": "stream",
     "text": [
      "100%|██████████| 15/15 [00:00<00:00, 26.21it/s]\n",
      "  0%|          | 0/15 [00:00<?, ?it/s]"
     ]
    },
    {
     "name": "stdout",
     "output_type": "stream",
     "text": [
      "Running mandelbrot_cuda\n",
      "Grid_dim: (1, 1) and Block_dim: (2, 2)\n"
     ]
    },
    {
     "name": "stderr",
     "output_type": "stream",
     "text": [
      "100%|██████████| 15/15 [00:36<00:00,  2.45s/it]\n",
      "  0%|          | 0/15 [00:00<?, ?it/s]"
     ]
    },
    {
     "name": "stdout",
     "output_type": "stream",
     "text": [
      "Grid_dim: (1, 1) and Block_dim: (4, 4)\n"
     ]
    },
    {
     "name": "stderr",
     "output_type": "stream",
     "text": [
      "100%|██████████| 15/15 [00:37<00:00,  2.49s/it]\n",
      "  0%|          | 0/15 [00:00<?, ?it/s]"
     ]
    },
    {
     "name": "stdout",
     "output_type": "stream",
     "text": [
      "Grid_dim: (1, 1) and Block_dim: (8, 8)\n"
     ]
    },
    {
     "name": "stderr",
     "output_type": "stream",
     "text": [
      "100%|██████████| 15/15 [00:37<00:00,  2.47s/it]\n",
      "  0%|          | 0/15 [00:00<?, ?it/s]"
     ]
    },
    {
     "name": "stdout",
     "output_type": "stream",
     "text": [
      "Grid_dim: (1, 1) and Block_dim: (16, 16)\n"
     ]
    },
    {
     "name": "stderr",
     "output_type": "stream",
     "text": [
      "100%|██████████| 15/15 [00:37<00:00,  2.51s/it]\n",
      "  0%|          | 0/15 [00:00<?, ?it/s]"
     ]
    },
    {
     "name": "stdout",
     "output_type": "stream",
     "text": [
      "Grid_dim: (1, 1) and Block_dim: (32, 32)\n"
     ]
    },
    {
     "name": "stderr",
     "output_type": "stream",
     "text": [
      "100%|██████████| 15/15 [00:36<00:00,  2.43s/it]\n",
      "  0%|          | 0/15 [00:00<?, ?it/s]"
     ]
    },
    {
     "name": "stdout",
     "output_type": "stream",
     "text": [
      "Grid_dim: (2, 2) and Block_dim: (1, 1)\n"
     ]
    },
    {
     "name": "stderr",
     "output_type": "stream",
     "text": [
      "100%|██████████| 15/15 [00:37<00:00,  2.51s/it]\n",
      "  0%|          | 0/15 [00:00<?, ?it/s]"
     ]
    },
    {
     "name": "stdout",
     "output_type": "stream",
     "text": [
      "Grid_dim: (2, 2) and Block_dim: (2, 2)\n"
     ]
    },
    {
     "name": "stderr",
     "output_type": "stream",
     "text": [
      "100%|██████████| 15/15 [00:36<00:00,  2.46s/it]\n",
      "  0%|          | 0/15 [00:00<?, ?it/s]"
     ]
    },
    {
     "name": "stdout",
     "output_type": "stream",
     "text": [
      "Grid_dim: (2, 2) and Block_dim: (4, 4)\n"
     ]
    },
    {
     "name": "stderr",
     "output_type": "stream",
     "text": [
      "100%|██████████| 15/15 [00:36<00:00,  2.46s/it]\n",
      "  0%|          | 0/15 [00:00<?, ?it/s]"
     ]
    },
    {
     "name": "stdout",
     "output_type": "stream",
     "text": [
      "Grid_dim: (2, 2) and Block_dim: (8, 8)\n"
     ]
    },
    {
     "name": "stderr",
     "output_type": "stream",
     "text": [
      " 33%|███▎      | 5/15 [00:12<00:24,  2.49s/it]"
     ]
    },
    {
     "name": "stdout",
     "output_type": "stream",
     "text": [
      "^C\n"
     ]
    },
    {
     "name": "stderr",
     "output_type": "stream",
     "text": [
      " 33%|███▎      | 5/15 [00:14<00:28,  2.83s/it]\n"
     ]
    },
    {
     "ename": "IndexError",
     "evalue": "list index out of range",
     "output_type": "error",
     "traceback": [
      "\u001b[0;31m---------------------------------------------------------------------------\u001b[0m",
      "\u001b[0;31mIndexError\u001b[0m                                Traceback (most recent call last)",
      "\u001b[0;32m<ipython-input-68-c1006baf5a51>\u001b[0m in \u001b[0;36m<module>\u001b[0;34m\u001b[0m\n\u001b[1;32m     17\u001b[0m \u001b[0;34m\u001b[0m\u001b[0m\n\u001b[1;32m     18\u001b[0m brute = run_experiments(methods, c_x_min, c_x_max, c_y_min, c_y_max, image_size,\n\u001b[0;32m---> 19\u001b[0;31m                         n_mpis, grids, blocks, n_threads)\n\u001b[0m",
      "\u001b[0;32m<ipython-input-66-64d521e8d163>\u001b[0m in \u001b[0;36mrun_experiments\u001b[0;34m(methods, c_x_min, c_x_max, c_y_min, c_y_max, image_size, n_mpis, grids, blocks, n_threads, repetitions)\u001b[0m\n\u001b[1;32m     21\u001b[0m                             result = mandelbrot(method, c_x_min, c_x_max, c_y_min, c_y_max, image_size,\n\u001b[1;32m     22\u001b[0m                                                \u001b[0mx_grid\u001b[0m\u001b[0;34m=\u001b[0m\u001b[0mgrid\u001b[0m\u001b[0;34m[\u001b[0m\u001b[0;36m0\u001b[0m\u001b[0;34m]\u001b[0m\u001b[0;34m,\u001b[0m \u001b[0my_grid\u001b[0m\u001b[0;34m=\u001b[0m\u001b[0mgrid\u001b[0m\u001b[0;34m[\u001b[0m\u001b[0;36m1\u001b[0m\u001b[0;34m]\u001b[0m\u001b[0;34m,\u001b[0m\u001b[0;34m\u001b[0m\u001b[0;34m\u001b[0m\u001b[0m\n\u001b[0;32m---> 23\u001b[0;31m                                                x_block=block[0], y_block=block[1])\n\u001b[0m\u001b[1;32m     24\u001b[0m                             \u001b[0mresult\u001b[0m\u001b[0;34m[\u001b[0m\u001b[0;34m'interaction'\u001b[0m\u001b[0;34m]\u001b[0m \u001b[0;34m=\u001b[0m \u001b[0mi\u001b[0m\u001b[0;34m+\u001b[0m\u001b[0;36m1\u001b[0m\u001b[0;34m\u001b[0m\u001b[0;34m\u001b[0m\u001b[0m\n\u001b[1;32m     25\u001b[0m                             \u001b[0mresults\u001b[0m\u001b[0;34m.\u001b[0m\u001b[0mappend\u001b[0m\u001b[0;34m(\u001b[0m\u001b[0mresult\u001b[0m\u001b[0;34m)\u001b[0m\u001b[0;34m\u001b[0m\u001b[0;34m\u001b[0m\u001b[0m\n",
      "\u001b[0;32m<ipython-input-65-3010824b5d42>\u001b[0m in \u001b[0;36mmandelbrot\u001b[0;34m(method, c_x_min, c_x_max, c_y_min, c_y_max, image_size, n_mpi, x_grid, y_grid, x_block, y_block, n_thread)\u001b[0m\n\u001b[1;32m     12\u001b[0m \u001b[0;34m\u001b[0m\u001b[0m\n\u001b[1;32m     13\u001b[0m     \u001b[0moutput\u001b[0m \u001b[0;34m=\u001b[0m \u001b[0mget_ipython\u001b[0m\u001b[0;34m(\u001b[0m\u001b[0;34m)\u001b[0m\u001b[0;34m.\u001b[0m\u001b[0mgetoutput\u001b[0m\u001b[0;34m(\u001b[0m\u001b[0;34m'{program} {command}  '\u001b[0m\u001b[0;34m)\u001b[0m\u001b[0;34m\u001b[0m\u001b[0;34m\u001b[0m\u001b[0m\n\u001b[0;32m---> 14\u001b[0;31m     \u001b[0moutput\u001b[0m \u001b[0;34m=\u001b[0m \u001b[0moutput\u001b[0m\u001b[0;34m[\u001b[0m\u001b[0;36m0\u001b[0m\u001b[0;34m]\u001b[0m\u001b[0;34m.\u001b[0m\u001b[0msplit\u001b[0m\u001b[0;34m(\u001b[0m\u001b[0;34m', '\u001b[0m\u001b[0;34m)\u001b[0m\u001b[0;34m\u001b[0m\u001b[0;34m\u001b[0m\u001b[0m\n\u001b[0m\u001b[1;32m     15\u001b[0m     infos = {'method': method, \n\u001b[1;32m     16\u001b[0m              \u001b[0;34m'duration_clock'\u001b[0m\u001b[0;34m:\u001b[0m \u001b[0moutput\u001b[0m\u001b[0;34m[\u001b[0m\u001b[0;36m0\u001b[0m\u001b[0;34m]\u001b[0m\u001b[0;34m,\u001b[0m\u001b[0;34m\u001b[0m\u001b[0;34m\u001b[0m\u001b[0m\n",
      "\u001b[0;31mIndexError\u001b[0m: list index out of range"
     ]
    }
   ],
   "source": [
    "# Definição de parâmetros em comum\n",
    "image_size = (25)\n",
    "c_x_min = (-0.188)\n",
    "c_x_max = (-0.012)\n",
    "c_y_min = (0.554)\n",
    "c_y_max = (0.754)\n",
    "\n",
    "# Definição de parâmetros específicos\n",
    "methods = ['omp', 'ompi', 'pth', 'cuda', 'seq']\n",
    "    #OpenMPI\n",
    "n_mpis = [2**x for x in range(7)]\n",
    "    #CUDA\n",
    "grids = [(2**x, 2**x) for x in range(8)]\n",
    "blocks = [(2**x, 2**x) for x in range(6)]\n",
    "    #OpenMP e PThreads\n",
    "n_threads = [2**x for x in range(1, 7)]\n",
    "\n",
    "brute = run_experiments(methods, c_x_min, c_x_max, c_y_min, c_y_max, image_size,\n",
    "                        n_mpis, grids, blocks, n_threads)"
   ]
  },
  {
   "cell_type": "code",
   "execution_count": 29,
   "metadata": {},
   "outputs": [],
   "source": [
    "# data_bruto = pd.DataFrame(brute)\n",
    "# data_bruto.to_csv('testes_brutos.csv', index=False)"
   ]
  },
  {
   "cell_type": "code",
   "execution_count": 30,
   "metadata": {},
   "outputs": [],
   "source": [
    "data = pd.read_csv('testes_brutos.csv')"
   ]
  },
  {
   "cell_type": "markdown",
   "metadata": {},
   "source": [
    "Com os parâmetros acima, a função `run_experiments()` realiza 825 chamadas na linha de comando, gerando um `DataFrame` com\n",
    "o mesmo número de linhas. A função a seguir irá nos ajudar fazendo uma primeira filtragem nos dados e computando algumas estatísticas que serão importantes na análise a seguir."
   ]
  },
  {
   "cell_type": "code",
   "execution_count": 31,
   "metadata": {},
   "outputs": [],
   "source": [
    "def describe_results(data, repetitions = 15):\n",
    "    lista_mpi = []\n",
    "    lista_cuda = []\n",
    "    for i in tqdm(range(0, data.shape[0], 15)):\n",
    "        data_aux = data.iloc[i:(i+14)].describe()\n",
    "        if data.iloc[i].loc['method'] == 'mpi':\n",
    "            lista_mpi.append({\n",
    "                'method': data.iloc[i].loc['method'],\n",
    "                'n_mpi_process': str(data.iloc[i].loc['n_mpi_process']),\n",
    "                'mean_duration_clock': data_aux.loc['mean'][0],\n",
    "                'std_duration_clock': data_aux.loc['std'][0],\n",
    "                'mean_duration_mono': data_aux.loc['mean'][1],\n",
    "                'std_duration_mono': data_aux.loc['std'][1],\n",
    "                'mean_duration_sys': data_aux.loc['mean'][2],\n",
    "                'std_duration_sys': data_aux.loc['std'][2],\n",
    "                'n_interactions': repetitions\n",
    "            })\n",
    "        else:\n",
    "            lista_cuda.append({\n",
    "                'method': data.iloc[i].loc['method'],\n",
    "                'x_grid_cuda': data.iloc[i].loc['x_grid_cuda'],\n",
    "                'y_grid_cuda': data.iloc[i].loc['y_grid_cuda'],\n",
    "                'x_block_cuda': data.iloc[i].loc['x_block_cuda'],\n",
    "                'y_block_cuda': data.iloc[i].loc['y_block_cuda'],\n",
    "                'mean_duration_clock': data_aux.loc['mean'][0],\n",
    "                'std_duration_clock': data_aux.loc['std'][0],\n",
    "                'mean_duration_mono': data_aux.loc['mean'][1],\n",
    "                'std_duration_mono': data_aux.loc['std'][1],\n",
    "                'mean_duration_sys': data_aux.loc['mean'][2],\n",
    "                'std_duration_sys': data_aux.loc['std'][2],\n",
    "                'n_interactions': repetitions          \n",
    "            })\n",
    "            \n",
    "    return {\n",
    "        'mpi':lista_mpi,\n",
    "        'cuda':lista_cuda\n",
    "    }"
   ]
  },
  {
   "cell_type": "markdown",
   "metadata": {},
   "source": [
    "Vamos finalmente executar a função acima passando nossos resultados como argumento e salvar em DataFrames separados as informações sobre as execuções em MPI e sobre as em CUDA:"
   ]
  },
  {
   "cell_type": "code",
   "execution_count": 32,
   "metadata": {},
   "outputs": [
    {
     "name": "stderr",
     "output_type": "stream",
     "text": [
      "100%|██████████| 55/55 [00:01<00:00, 37.93it/s]\n"
     ]
    }
   ],
   "source": [
    "resumo_experimentos = describe_results(data)\n",
    "resumo_mpi = pd.DataFrame(resumo_experimentos['mpi'])\n",
    "resumo_cuda = pd.DataFrame(resumo_experimentos['cuda'])"
   ]
  },
  {
   "cell_type": "markdown",
   "metadata": {},
   "source": [
    "## Vizualização e Análise dos Resultados\n",
    "\n"
   ]
  },
  {
   "cell_type": "markdown",
   "metadata": {},
   "source": [
    "### Analisando resultados individualmente\n",
    "\n",
    "#### Análise do programa utilizando MPI\n",
    "Vamos iniciar nossa discussão sobre os resultados do experimento analisando o comportamento da versão MPI. Vamos olhar para o tempo médio de execução conforme variamos do número de processos utilizados.\n",
    "\n",
    "É importante destacar que novamente decidimos utilizar a medição feita pela função em C `clock_gettime()` como padrão em toda a análise feita a seguir."
   ]
  },
  {
   "cell_type": "code",
   "execution_count": 34,
   "metadata": {},
   "outputs": [
    {
     "data": {
      "text/plain": [
       "Text(0.5, 1.0, 'Tempo de execução do programa implementado utilizando OpenMPI')"
      ]
     },
     "execution_count": 34,
     "metadata": {},
     "output_type": "execute_result"
    },
    {
     "data": {
      "image/png": "[encoded data removed]",
      "text/plain": [
       "<Figure size 432x288 with 1 Axes>"
      ]
     },
     "metadata": {
      "needs_background": "light"
     },
     "output_type": "display_data"
    }
   ],
   "source": [
    "fig, ax = plt.subplots()\n",
    "plt.errorbar(resumo_mpi['n_mpi_process'], resumo_mpi['mean_duration_mono'],\n",
    "             yerr = 2*resumo_mpi['std_duration_mono'], fmt='ro')\n",
    "ax.set_xlabel('Número de processos')\n",
    "ax.set_ylabel('Tempo de execução (s)')\n",
    "plt.title('Tempo de execução do programa implementado utilizando OpenMPI')"
   ]
  },
  {
   "cell_type": "markdown",
   "metadata": {},
   "source": [
    "A partir do gráfico acima pode-se observar que, de maneira geral, dividir a execução de um programa utilizando MPI ajuda a diminuir o tempo de execução do mesmo. Entretanto, também vale notar que, quando temos pelo menos 9 processos, os valores médios se estabilizam. No gráfico a seguir, vamos analisar os intervalos de confiança destes casos afim de escolher um número 'ótimo' de processos."
   ]
  },
  {
   "cell_type": "code",
   "execution_count": 46,
   "metadata": {},
   "outputs": [
    {
     "data": {
      "text/plain": [
       "Text(0.5, 1.0, 'Tempo de execução do programa implementado utilizando OpenMPI')"
      ]
     },
     "execution_count": 46,
     "metadata": {},
     "output_type": "execute_result"
    },
    {
     "data": {
      "image/png": "[encoded data removed]",
      "text/plain": [
       "<Figure size 432x288 with 1 Axes>"
      ]
     },
     "metadata": {
      "needs_background": "light"
     },
     "output_type": "display_data"
    }
   ],
   "source": [
    "fig, ax = plt.subplots()\n",
    "plt.xlim([1.1, 7.9])\n",
    "plt.ylim([2, 7.5])\n",
    "plt.errorbar(resumo_mpi['n_mpi_process'], resumo_mpi['mean_duration_mono'],\n",
    "             yerr = 2*resumo_mpi['std_duration_mono'], fmt='ro')\n",
    "ax.set_xlabel('Número de processos')\n",
    "ax.set_ylabel('Tempo de execução (s)')\n",
    "plt.title('Tempo de execução do programa implementado utilizando OpenMPI')"
   ]
  },
  {
   "cell_type": "markdown",
   "metadata": {},
   "source": [
    "A partir desta última vizualização, decidimos adotar $25$ como o número ótimo de processos para dividirmos nosso programa. Para\n",
    "embasar nossa escolha, temos três motivos: o primeiro deles é que a média de tempo de execução é a mais baixa de todos para esse número de processos. Além disso, se comparado a outros candidatos com baixo tempo de execução ($49$ e $64$), o intervalo de confiança mostra-se o menor dentre os três, o que é uma vantagem, porque esperamos que futuros experimentos com este número de processos tenha uma maior \"consistência\" quanto ao tempo de execução. Finalmente, se compararmos com o número de processos que oferece menor variabilidade ($36$), vemos que mesmo quando a divisão em $25$ processos apresenta seus piores casos dentro do intervalo de confiança, ainda teremos um desempenho melhor do que os melhores casos da divisão em $36$ processos.\n",
    "\n",
    "\n",
    "#### Análise do programa utilizando CUDA\n",
    "Para a versão CUDA, faremos um gráfico tridimensional, onde os eixos representam:\n",
    "Eixo x: Raíz quadrada do número de threads executadas por bloco.\n",
    "Eixo y: Raíz quadrada do número de blocos executados por grid.\n",
    "Eixo z: Tempo de execução, em segundos\n",
    "\n",
    "Essas transformações foram feitas para a melhor visualização do gráfico, sem que precisemos escalar os eixos. "
   ]
  },
  {
   "cell_type": "code",
   "execution_count": 72,
   "metadata": {},
   "outputs": [
    {
     "data": {
      "text/plain": [
       "<mpl_toolkits.mplot3d.art3d.Path3DCollection at 0x7fe257586278>"
      ]
     },
     "execution_count": 72,
     "metadata": {},
     "output_type": "execute_result"
    },
    {
     "data": {
      "image/png": "[encoded data removed]",
      "text/plain": [
       "<Figure size 432x288 with 1 Axes>"
      ]
     },
     "metadata": {
      "needs_background": "light"
     },
     "output_type": "display_data"
    }
   ],
   "source": [
    "fig = plt.figure()\n",
    "ax = fig.gca(projection='3d')\n",
    "\n",
    "x = resumo_cuda['x_block_cuda']\n",
    "y = resumo_cuda['x_grid_cuda']\n",
    "z = resumo_cuda['mean_duration_mono']\n",
    "\n",
    "ax.set_xscale('linear')\n",
    "ax.set_yscale('linear')\n",
    "\n",
    "ax.set_xlim(1, 32)\n",
    "ax.set_ylim(1, 32)\n",
    "\n",
    "ax.set_xlabel('√Threads¯/¯block\\'')\n",
    "ax.set_ylabel('√Blocks¯/¯grid\\'')\n",
    "ax.set_zlabel('Tempo de execução (s)')\n",
    "# By using zdir='y', the y value of these points is fixed to the zs value 0\n",
    "# and the (x,y) points are plotted on the x and z axes.\n",
    "\n",
    "ax.scatter(x, y, zs=z, label='points in (x,z)')"
   ]
  },
  {
   "cell_type": "markdown",
   "metadata": {},
   "source": [
    "Também plotamos o tempo de execução pela raíz quadrada do número de threads por bloco, agrupados pela raíz quadrada do número de blocos por grid:\n"
   ]
  },
  {
   "cell_type": "code",
   "execution_count": 75,
   "metadata": {},
   "outputs": [
    {
     "data": {
      "image/png": "[encoded data removed]",
      "text/plain": [
       "<Figure size 432x288 with 1 Axes>"
      ]
     },
     "metadata": {
      "needs_background": "light"
     },
     "output_type": "display_data"
    }
   ],
   "source": [
    "fig, ax = plt.subplots()\n",
    "ax.set_xscale('log', basex=2)\n",
    "for key, group in resumo_cuda.groupby('x_grid_cuda'):\n",
    "    group.plot('y_block_cuda', 'mean_duration_mono', yerr='std_duration_mono', label=key, ax=ax, fmt='o')   # 2\n",
    "\n",
    "ax.set_xlabel('√Threads¯per¯block\\'')\n",
    "ax.set_ylabel('Tempo de execução (s)')\n",
    "plt.title('Tempo de execução do programa implementado utilizando CUDA')\n",
    "\n",
    "plt.show()"
   ]
  },
  {
   "cell_type": "markdown",
   "metadata": {},
   "source": [
    "Como podemos ver, os melhores candidatos ao valor de tempo de execução do programa são os experimentos com grids $16\\times16$, $32\\times32$, $64\\times64$ e $128\\times128$. Além disso, vamos restringir um número mínimo de $2\\times2$ threads por bloco.\n",
    "\n",
    "Fazendo um gráfico, agora somente com esses experimentos:"
   ]
  },
  {
   "cell_type": "code",
   "execution_count": 76,
   "metadata": {},
   "outputs": [
    {
     "data": {
      "image/png": "[encoded data removed]",
      "text/plain": [
       "<Figure size 432x288 with 1 Axes>"
      ]
     },
     "metadata": {
      "needs_background": "light"
     },
     "output_type": "display_data"
    }
   ],
   "source": [
    "fig, ax = plt.subplots()\n",
    "ax.set_xscale('log', basex=2)\n",
    "for key, group in resumo_cuda.loc[23:][resumo_cuda.loc[23:].x_block_cuda > 1].groupby('x_grid_cuda'):\n",
    "    group.plot('x_block_cuda', 'mean_duration_mono', yerr='std_duration_mono', label=key, ax=ax, fmt='o')   # 2\n",
    "\n",
    "ax.set_xlabel('√Threads¯per¯block\\'')\n",
    "ax.set_ylabel('Tempo de execução (s)')\n",
    "plt.title('Tempo de execução do programa implementado utilizando CUDA')\n",
    "\n",
    "plt.show()"
   ]
  },
  {
   "cell_type": "markdown",
   "metadata": {},
   "source": [
    "E novamente um gráfico para $32\\times32$ e $64\\times64$ blocos por grid:\n"
   ]
  },
  {
   "cell_type": "code",
   "execution_count": 77,
   "metadata": {},
   "outputs": [
    {
     "data": {
      "image/png": "[encoded data removed]",
      "text/plain": [
       "<Figure size 432x288 with 1 Axes>"
      ]
     },
     "metadata": {
      "needs_background": "light"
     },
     "output_type": "display_data"
    }
   ],
   "source": [
    "fig, ax = plt.subplots()\n",
    "ax.set_xscale('log', basex=2)\n",
    "for key, group in resumo_cuda.loc[29:][resumo_cuda.loc[29:].x_block_cuda > 1].groupby('x_grid_cuda'):\n",
    "    group.plot('x_block_cuda', 'mean_duration_mono', yerr='std_duration_mono', label=key, ax=ax, fmt='o')   # 2\n",
    "\n",
    "ax.set_xlabel('√Threads¯per¯block\\'')\n",
    "ax.set_ylabel('Tempo de execução (s)')\n",
    "plt.title('Tempo de execução do programa implementado utilizando CUDA')\n",
    "\n",
    "plt.show()"
   ]
  },
  {
   "cell_type": "markdown",
   "metadata": {},
   "source": [
    "Separando os plots com os experimentos que possuem uma grid $32\\times32$ e $128\\times128$"
   ]
  },
  {
   "cell_type": "code",
   "execution_count": 82,
   "metadata": {},
   "outputs": [
    {
     "data": {
      "image/png": "[encoded data removed]",
      "text/plain": [
       "<Figure size 720x216 with 2 Axes>"
      ]
     },
     "metadata": {
      "needs_background": "light"
     },
     "output_type": "display_data"
    }
   ],
   "source": [
    "fig, ax = plt.subplots(nrows=1, ncols=2, figsize=(10, 3))\n",
    "ax[0].set_xscale('log', basex=2)\n",
    "ax[1].set_xscale('log', basex=2)\n",
    "\n",
    "ax[0].set_ylim(1.5, 5.5)\n",
    "ax[1].set_ylim(1.5, 5.5)\n",
    "\n",
    "cuda_1 = resumo_cuda[resumo_cuda.x_grid_cuda == 32]\n",
    "cuda_2 = resumo_cuda[resumo_cuda.x_grid_cuda == 128]\n",
    "\n",
    "ax[0].errorbar(cuda_1['x_block_cuda'], cuda_1['mean_duration_mono'],\n",
    "             yerr = 2*cuda_1['std_duration_mono'], fmt='ro')\n",
    "ax[1].errorbar(cuda_2['x_block_cuda'], cuda_2['mean_duration_mono'],\n",
    "             yerr = 2*cuda_2['std_duration_mono'], fmt='ro')\n",
    "\n",
    "ax[0].set_xlabel('√Threads¯per¯block\\'')\n",
    "ax[0].set_ylabel('Tempo de execução (s)')\n",
    "ax[0].set_title('Tempo de execução mandelbrot_cuda')\n",
    "\n",
    "ax[1].set_xlabel('√Threads¯per¯block\\'')\n",
    "ax[1].set_ylabel('Tempo de execução (s)')\n",
    "ax[1].set_title('Tempo de execução mandelbrot_cuda')\n",
    "\n",
    "\n",
    "fig.tight_layout()"
   ]
  },
  {
   "cell_type": "markdown",
   "metadata": {},
   "source": [
    "Podemos ver que há vários candidatos que possuem uma baixa média de tempo de execução, mas existe um destes que possui o menor intervalo de confiança dentre todos.\n",
    "\n",
    "Desta forma, escolhemos como potencial conjunto de parâmetros para executar os experimentos:\n",
    "- Dimensão dos blocos:  $(16, 16)$ \n",
    "- Dimensão da grid:  $(32, 32)$"
   ]
  },
  {
   "cell_type": "markdown",
   "metadata": {},
   "source": [
    "### OpenMPI Vs. CUDA\n",
    "\n",
    "Agora vamos comparar o tempo de execução entre os melhores candidatos da versão em MPI e da versão em CUDA, faznendo comentários a respeito de como um acelerador (GPU) pode impactar na velocidade de execução de um programa, assim como dos potenciais de cada implementação.\n",
    "\n",
    "Para isso, vamos rodar um número maior do que 15 repetições (200 repetições) para cada um dos dois casos, o que pode demorar um tempo, e analisar com gráficos apropriados."
   ]
  },
  {
   "cell_type": "code",
   "execution_count": 83,
   "metadata": {},
   "outputs": [],
   "source": [
    "methods = ['mpi', 'cuda']\n",
    "n_mpis = [25]\n",
    "grids = [(32, 32)]\n",
    "blocks = [(16, 16)]\n",
    "repetitions = 200\n",
    "\n",
    "# brute_bests = run_experiments(methods, n_mpis, grids, blocks, repetitions)"
   ]
  },
  {
   "cell_type": "code",
   "execution_count": 84,
   "metadata": {},
   "outputs": [],
   "source": [
    "# brute_bests = pd.DataFrame(brute_bests)\n",
    "# brute_bests.to_csv('testes_brutos_melhores.csv', index=False)"
   ]
  },
  {
   "cell_type": "code",
   "execution_count": 85,
   "metadata": {},
   "outputs": [],
   "source": [
    "brute_bests = pd.read_csv('testes_brutos_melhores.csv')"
   ]
  },
  {
   "cell_type": "code",
   "execution_count": 89,
   "metadata": {},
   "outputs": [
    {
     "data": {
      "text/plain": [
       "[Text(0, 0.5, 'Tempo de duração (s)'),\n",
       " Text(0.5, 0, 'Método'),\n",
       " Text(0.5, 1.0, 'Boxplot de comparação entre métodos do EP2')]"
      ]
     },
     "execution_count": 89,
     "metadata": {},
     "output_type": "execute_result"
    },
    {
     "data": {
      "image/png": "[encoded data removed]",
      "text/plain": [
       "<Figure size 432x288 with 1 Axes>"
      ]
     },
     "metadata": {
      "needs_background": "light"
     },
     "output_type": "display_data"
    }
   ],
   "source": [
    "seaborn.boxplot(x=brute_bests['method'], y=brute_bests['duration_mono'].astype('float')\n",
    "               ).set(xlabel='Método', ylabel='Tempo de duração (s)',\n",
    "                    title='Boxplot de comparação entre métodos do EP2')"
   ]
  },
  {
   "cell_type": "markdown",
   "metadata": {},
   "source": [
    "Como podemos ver no gráfico acima, o desempenho do algoritmo implementado em CUDA com auxílio de um acelerador é nitidamente superior se comparado aos resultados da implementação com OpenMPI."
   ]
  },
  {
   "cell_type": "markdown",
   "metadata": {},
   "source": [
    "### Comparação entre todas as melhores versões de todos os tipos de implementação até então\n"
   ]
  },
  {
   "cell_type": "code",
   "execution_count": null,
   "metadata": {},
   "outputs": [],
   "source": []
  },
  {
   "cell_type": "markdown",
   "metadata": {},
   "source": [
    "## Conclusões e observações finais"
   ]
  },
  {
   "cell_type": "markdown",
   "metadata": {},
   "source": [
    "### Resultados\n",
    "\n",
    "Como pôde ser visto, não foi estritamente aumentando o número de threads ou processos rodando simultaneamente que o desempenho dos programas melhorou. O tempo de execução de um programa depende de inúmeros fatores, e no nosso caso, principalmente da latência com que as informações são trocadas, já que esse tipo de comunicação precisa ser estabelecida entre processos na versão OpenMPI, e entre o host e device na versão em CUDA. Apesar disso, conseguimos montar uma estratégia para selecionar e sugerir quais parâmetros podem ser satisfatórios para que o tempo de execução de um programa seja minimizado, dentro do possível, além de mostrarmos como a variação destes parâmetros impacta no tempo de execução dos mesmos. \n",
    "\n",
    "####  Potencial dos pacotes\n",
    "\n",
    "Como visto anteriormente, nos experimentos realizados em uma mesma máquina, o desempenho da versão em CUDA foi nitidamente superior ao desempenho da versão implementada em MPI. Apesar disso, sabemos que o OpenMPI é feito com o intuito de utilizar processamento paralelo em mais de uma máquina, e até em mais de uma rede simultaneamente, coisa que não pudemos incluir nos experimentos devido à falta de disponibilidade de acesso a outras máquinas, seja na mesma rede, seja em outra.\n",
    "\n",
    "É por este motivo que também sabemos que o desempenho em potencial da versão implementada em OpenMPI é praticamente ilimitada, e depende basicamente do número de computadores utilizados simultaneamente, do número de processos abertos em cada computador e também da velocidade de tráfego de informação entre os processos.\n",
    "\n",
    "Também sabemos que a versão em CUDA pode oferecer um desempenho melhor ainda se utilizarmos GPUs mais poderosas ou modernas, ou até mais de uma GPU simultaneamente, coisa que poderia ser implementada até utilizando CUDA + OpenMPI. Na verdade, o ideal é que isso fosse feito, já que a máquina neozil da rede Linux oferece duas GPUs localmente. E o desempenho seria maior ainda se pudéssemos conectar várias máquinas com uma ou mais GPUs simultaneamnete.\n",
    "\n",
    "### Infra Estrutura de trabalho remoto utilizando SSH\n",
    "\n",
    "A realização deste trabalho demandou muito poder computacional. Como nenhum dos elementos da dupla possui uma máquina adequada para realizar os experimentos pedidos, precisamos aprender um pouco sobre o uso remoto da rede IME e da rede Linux. Como\n",
    "nesse momento em que a grande maioria da comunidade IME não consegue estar fisicamente presente no instituto, resolvemos fazer\n",
    "uma pequena descrição de como utilizamos a máquina neozin da rede Linux para realizar nossos experimentos.\n",
    "\n",
    "Em primeiro lugar, gostaríamos de agradecer à comunidade, que \n",
    "mantém [esta página](https://wiki.ime.usp.br/) com diversas informações úteis, inclusive \n",
    "sobre o acesso remoto às redes do IME. Mais especificamente, \n",
    "[esta página](https://wiki.ime.usp.br/servicos:processamento) contém uma lista das máquinas do IME com grande poder computacional e orientações de como utilizá-las. Também gostaríamos de agradecer aos responsáveis pela manutenção [desta página](https://linux.ime.usp.br/wiki/doku.php?id=faq:cuda), que contém mais detalhes sobre a máquina neozil e sua utilização.\n",
    "\n",
    "#### Abrindo uma porta para acesso local\n",
    "\n",
    "Mesmo com a interface gráfica de um navegador de internet, ainda temos que lidar com algum tipo de delay, o que torna um tanto desconfortável editar um documento como este. Para resolver este problema, utilizamos o comando\n",
    "\n",
    "``` ssh -NL [port]:localhost:[port] [seulogin]@brucutuiv.ime.usp.br```\n",
    "\n",
    "para que possamos acessar o servidor oferecido pelo Jupyter localmente!"
   ]
  },
  {
   "cell_type": "code",
   "execution_count": null,
   "metadata": {},
   "outputs": [],
   "source": []
  }
 ],
 "metadata": {
  "kernelspec": {
   "display_name": "Python 3",
   "language": "python",
   "name": "python3"
  },
  "language_info": {
   "codemirror_mode": {
    "name": "ipython",
    "version": 3
   },
   "file_extension": ".py",
   "mimetype": "text/x-python",
   "name": "python",
   "nbconvert_exporter": "python",
   "pygments_lexer": "ipython3",
   "version": "3.7.3"
  },
  "name": "Untitled.ipynb"
 },
 "nbformat": 4,
 "nbformat_minor": 4
}
