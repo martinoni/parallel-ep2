{
 "cells": [
  {
   "cell_type": "markdown",
   "metadata": {},
   "source": [
    "\n",
    "# EP1 de Programacao Paralela e Distribuída - MAC5742\n",
    "\n"
   ]
  },
  {
   "cell_type": "markdown",
   "metadata": {},
   "source": [
    "| Nome | N° USP |\n",
    "|------|------|\n",
    "| Ariel Serranoni Soares da Silva| 7658024 |\n",
    "| Thiago Martinoni | 9793401 |\n"
   ]
  },
  {
   "cell_type": "markdown",
   "metadata": {},
   "source": [
    "## Resumo\n",
    "\n",
    "Em matemática, fractais são conjuntos auto-similares. Intuitivamente essa propriedade significa que, se $X$ é um conjunto\n",
    "auto-similar, então $X$ é formado por cópias identicas a si mesmo. Não raramente a representação gráfica desses conjuntos se mostra extremamente interessante, se tornando uma porta de entrada muitos que desejam mergulhar no mundo da matemática.\n",
    "Em particular, o Conjunto de Mandelbrot é um fractal que pode ser vizualizado facilmente através de um algorítmo utilizando apenas conceitos básicos de programação, como condicionais e laços.\n",
    "\n",
    "A combinação dos motivos citados acima torna este programa um exercício ideal para disciplinas introdutórias de computação. Neste trabalho vamos fazer mais: implementaremos duas versões deste algorítmo, uma utilizando OpenMPI e outra utilizando CUDA, sendo que nesta houve auxílio de um acelerador (GPU). Além disso, vamos analisar o desempenho de cada programa afim de estudar brevemente o desempenho dessas duas bibliotecas. Os arquivos utilizados para a produção deste estudo encontram-se disponíveis [neste repositório](https://github.com/martinoni/parallel-ep2).\n",
    "\n",
    "## Implementações em C\n",
    "\n",
    "Como mencionamos, temos dois programas, cada um responsável por calcular o conjunto de mandelbrot utilizando um método diferente. \n",
    "Como o arquivo `mandelbrot_seq.c` serve como base para as paralelizações `mandelbrot_ompi.c` e `mandelbrot_cuda.cu`, é natural \n",
    "que comentemos algumas das mudanças que fizemos na implementação do primeiro antes de continuarmos: \n",
    "\n",
    "#### Percorrendo vetores multidimensionais com um único laço\n",
    "\n",
    "Em primeiro lugar, é importante enxergar que a divisão do trabalho de um algorítmo em unidades tão pequenas quanto possível nos oferece uma flexibilidade maior ao alocar tarefas para cada thread, facilitando a paralelização do programa.\n",
    "\n",
    "Na implementação original que recebemos como base, a função `compute_mandelbrot()` operava com dois laços. Neste contexto,\n",
    "cada iteração do laço externo era responsável por uma linha da imagem. Portanto, para dividir o trabalho da função em unidades menores do que uma linha, seríamos obrigados a criar threads dentro de threads ou então partir para um novo \n",
    "paradigma de implementação do nosso programa. \n",
    "\n",
    "No caso da versão implementada em OpenMPI, a mudança que fizemos foi considerar dois parâmetros `i_x_thread` e `i_y_thread`, desta vez percorrendo todos os `image_buffer_size` pixels da imagem. Sabendo o número `image_size` de pixels em cada linha, conseguimos descobrir a linha (`taskid/image_size`) e coluna (`taskid%image_size`) exatas de um pixel a partir de um único parâmetro `taskid` que representa a identificação da thread sendo usada. Uma observação a ser feita é que todos os processos MPI foram abertos na mesma máquina, devido à falta de disponibilidade de outras máquinas com OpenMPI configurado, o que indica que a capacidade real da biblioteca não será testado neste projeto, já que na vida real o número de máquinas que podem ser utilizados na execução do programa é ilimitado. \n",
    "\n",
    "No caso da versão CUDA, utilizamos dois parâmetros para a execução do programa: `blockDim` e `gridDim`, que representam as dimensões (x, y) dos blocos (organização das threads dentro dos blocos - determina quantas threads existe em cada bloco) e das grids (organização dos blocos na grid - determina quantos blocos existe na grid), respectivamente. Desta forma, conseguimos determinar as coordenadas (i_x, i_y) dos pixels em que cada thread trabalhará utilizando a lógica `i_x=blockIdx.x*blockDim.x + threadIdx.x` e `i_y=blockIdx.y*blockDim.y + threadIdx.y`.\n",
    "\n",
    "Tanto em MPI quanto em CUDA, quando um processo ou thread acaba sua primeira tarefa, checa se todos os píxels da imagem já foram incluídos na lista de tarefas, e se não, ganha um novo valor e trabalha em cima do novo píxel. Desta forma, conseguimos abranger todos os píxels da imagem que será gerada.\n",
    "\n",
    "#### Cálculos de tempo e implicações de latência\n",
    "\n",
    "Para medir o desempenho de um programa, é essensial que tenhamos uma maneira de medir o tempo de execução do mesmo. \n",
    "Para isso, aproveitamos a struct `timer_info` do miniEP3 e encapsulamos as medições feitas na ocasião nas funções `start_timer()` e `stop_timer()`. Também retornamos os resultados utilizando os mesmos métodos no miniEP3 através da função `print_results()`. Vale ressaltar que o tempo medido é feito desde o início do programa, até o fim dele, contando com o tempo de alocação de memória e da escrita do arquivo no disco.\n",
    "\n",
    "É trivial também que não é somente aumentando o número de threads e processos paralelos executando comandos que diminuímos o tempo de execução do programa. Isso porque existe, no caso do MPI, o tempo de troca de mensagens entre os processos, assim como em cuda existe o tempo de troca de informação da CPU (host) com a GPU (device). Nos dois casos temos o tempo de alocação de memória, seja dentro de cada processo (MPI) ou dentro do device=GPU (CUDA).\n"
   ]
  },
  {
   "cell_type": "markdown",
   "metadata": {},
   "source": [
    "## Máquina utilizada\n",
    "\n",
    "O computador utilizado para a execução dos programas neste projeto foi o `neozil` da Rede Linux do IME, que suporta o CUDA Toolkit 9.1 e está equipado com duas GPUs Nvidia Tesla K20c SM35. As informações foram retiradas do site https://linux.ime.usp.br/wiki/doku.php?id=faq:cuda."
   ]
  },
  {
   "cell_type": "markdown",
   "metadata": {},
   "source": [
    "## Infra estrutura Python\n",
    "\n",
    "Para este relatório, também reaproveitamos muito da estrutura dos trabalhos anteriores. Utilizamos Jupyter notebooks e Python na versão 3.7.3. Também implementamos em Python uma série de funções que foram feitas em Julia anteriormente. A seguinte célula fará as importações necessárias dos pacotes Python:  "
   ]
  },
  {
   "cell_type": "code",
   "execution_count": 5,
   "metadata": {},
   "outputs": [],
   "source": [
    "import pandas as pd\n",
    "import os\n",
    "from tqdm import tqdm\n",
    "import matplotlib.pyplot as plt\n",
    "from mpl_toolkits.mplot3d import Axes3D\n",
    "import seaborn"
   ]
  },
  {
   "cell_type": "markdown",
   "metadata": {},
   "source": [
    "## Experimentos e Coleta de Dados \n",
    "\n",
    "O Primeiro passo para analisarmos o tempo de execução de um determinado software sempre foi e sempre será executar o programa\n",
    "em questão. A função abaixo é uma adaptação da função `measure_monte_carlo()` do mini EP3. Seu objetivo é justamente fazer uma chamada de um dos programas em C na linha de comando e salvar os dados que serão relevantes para nossa análise.\n",
    "\n",
    "A função `mandelbrot()` recebe 6 argumentos: \n",
    "\n",
    "O primeiro argumento `method` é uma string que determina qual das implementações\n",
    "em C deve ser chamada. Os valores possíveis para esta variável são `\"cuda\"`, e `\"mpi\"`. \n",
    "\n",
    "O segundo argumento `n_mpi` representa o número de processos abertos no programa que utiliza OpenMPI.\n",
    "\n",
    "O terceiro argumento `x_grid` para a versão em CUDA representa a coordenada x da organização de blocos dentro da grid.\n",
    "\n",
    "O quarto argumento `y_grid` para a versão em CUDA representa a coordenada y da organização de blocos dentro da grid.\n",
    "\n",
    "O quinto argumento `x_block` para a versão em CUDA representa a coordenada x da organização de threads dentro de cada bloco.\n",
    "\n",
    "O sexto argumento `y_block` para a versão em CUDA representa a coordenada y da organização de threads dentro de cada bloco."
   ]
  },
  {
   "cell_type": "markdown",
   "metadata": {},
   "source": [
    "Compilando os arquivos em C:"
   ]
  },
  {
   "cell_type": "code",
   "execution_count": 6,
   "metadata": {},
   "outputs": [
    {
     "name": "stdout",
     "output_type": "stream",
     "text": [
      "make: Nothing to be done for 'all'.\r\n"
     ]
    }
   ],
   "source": [
    "!make"
   ]
  },
  {
   "cell_type": "code",
   "execution_count": 7,
   "metadata": {},
   "outputs": [],
   "source": [
    "def mandelbrot(method, n_mpi=None, x_grid=None, y_grid=None, x_block=None, y_block=None):\n",
    "    if method == \"cuda\":\n",
    "        command = '%d %d %d %d' % (x_grid, y_grid, x_block, y_block)\n",
    "        output = !./mandelbrot_cuda {command}\n",
    "        output = output[0].split(', ')\n",
    "    elif method == 'mpi':\n",
    "        command = '--quiet --host localhost:%d mandelbrot_ompi' % (n_mpi)\n",
    "        output = !mpirun {command}\n",
    "        output = output[1].split(', ')\n",
    "        \n",
    "    infos = {'method': method, \n",
    "             'duration_clock': output[0],\n",
    "             'duration_mono': output[1],\n",
    "             'duration_sys': output[2],\n",
    "             'n_mpi_process':n_mpi, \n",
    "             'x_grid_cuda':x_grid, 'y_grid_cuda': y_grid, \n",
    "             'x_block_cuda': x_block, 'y_block_cuda':y_block,\n",
    "            'interaction': None}\n",
    "    return infos"
   ]
  },
  {
   "cell_type": "markdown",
   "metadata": {},
   "source": [
    "Para que nossa análise tenha algum valor do ponto de vista estatístico, precisamos nos basear em uma amostra consideravelmente\n",
    "grande. A função a seguir, também adaptada do miniEP3, tem o intuito de automatizar repetidas chamadas dos programas em C, feitas pela função acima. \n",
    "\n",
    "A função `run_experiments()` a seguir nos permite variar todos os parâmetros das chamadas feitas pela função `mandelbrot()` e estabelecer um número de repetições através do através do argumento `repetitions`. Então as chamadas são executadas, os resultados coletados e retornados na forma de um `DataFrame`. A função também recebe outros argumentos que devem estar na forma de lista que vão indicar quais parâmetros serão usados na execução dos programas.\n"
   ]
  },
  {
   "cell_type": "code",
   "execution_count": 8,
   "metadata": {},
   "outputs": [],
   "source": [
    "def run_experiments(methods, n_mpis=None, grids=None, blocks=None, repetitions=15):\n",
    "    !make\n",
    "    results = []\n",
    "    for method in methods:\n",
    "        if method == 'mpi':\n",
    "            print('Running mandelbrot_mpi:')\n",
    "            for n_mpi in n_mpis:\n",
    "                print('n_processes: %d' %  (n_mpi))\n",
    "                for i in tqdm(range(repetitions)):\n",
    "                    result = mandelbrot(method, n_mpi)\n",
    "                    result['interaction'] = i+1\n",
    "                    results.append(result)\n",
    "        elif method == 'cuda':\n",
    "            print('Running mandelbrot_cuda')\n",
    "            for grid in grids:\n",
    "                for block in blocks:\n",
    "                    if grid != (1,1) or block != (1,1):\n",
    "                        print('Grid_dim: (%d, %d) and Block_dim: (%d, %d)' %  (grid[0], grid[1], block[0], block[1]))\n",
    "                        for i in tqdm(range(repetitions)):\n",
    "                            result = mandelbrot(method, \n",
    "                                               x_grid=grid[0], y_grid=grid[1],\n",
    "                                               x_block=block[0], y_block=block[1])\n",
    "                            result['interaction'] = i+1\n",
    "                            results.append(result)\n",
    "\n",
    "    return results\n",
    "    "
   ]
  },
  {
   "cell_type": "markdown",
   "metadata": {},
   "source": [
    "Antes de iniciar os experimentos, vamos ajustar parâmetros da função `run_experiments()` conforme a tabela abaixo.\n",
    "É importante alertar que a execução pode ser demorada (3h+). Por este motivo, optamos por deixar a linha responsável pela execução do experimento comentada.\n",
    "\n",
    "\n",
    "|               \t   | OpenMPI              | CUDA              \t                | \n",
    "|----------------------|----------------------|-------------------------------------|\n",
    "| Região               | Triple Spiral Valley | Triple Spiral Valley                |\n",
    "| Tamanho de Imagem    | 4096                 | 4096                                |\n",
    "| N° de processos  \t   | $1^2\\ldots 8^2$      | None              \t                |\n",
    "| Dimensões dos blocos | None \t              | (x, x) para x em $2^0\\ldots 2^{5}$ \t|\n",
    "| Dimensões da grid    | None              \t  | (x, x) para x em $2^0\\ldots 2^{7}$  |\n",
    "\n",
    "É importante notar que para a versão em MPI, foi escolhido um espaço de possíveis números de processos utilizados que precisam ser quadrados perfeitos, determinado pelo funcionamento do algoritmo.\n",
    "Para a versão em CUDA, o que determinará a performance do programa é simplesmente o número de threads ativas, e não a forma com que organizamos elas nos blocos ou na grid. Apesar de estarmos utilizando organizações quadradas de threads dentro dos blocos e de blocos dentro da grid, qualquer combinação (x, y) é possível para os dois casos.\n",
    "\n",
    "Também ressaltamos que para cada família de arquiteturas da Nvidia existe um número máximo de threads por bloco, que no caso da Tesla é 1024. Por isso optamos por um máximo número de $32\\times32$ threads por bloco.\n"
   ]
  },
  {
   "cell_type": "code",
   "execution_count": 9,
   "metadata": {},
   "outputs": [],
   "source": [
    "methods = ['mpi', 'cuda']\n",
    "n_mpis = [x**2 for x in range(1, 9)]\n",
    "grids = [(2**x, 2**x) for x in range(8)]\n",
    "blocks = [(2**x, 2**x) for x in range(6)]\n",
    "\n",
    "# brute = run_experiments(methods, n_mpis, grids, blocks)"
   ]
  },
  {
   "cell_type": "code",
   "execution_count": 10,
   "metadata": {},
   "outputs": [],
   "source": [
    "# data_bruto = pd.DataFrame(brute)\n",
    "# data_bruto.to_csv('testes_brutos.csv', index=False)"
   ]
  },
  {
   "cell_type": "code",
   "execution_count": 11,
   "metadata": {},
   "outputs": [
    {
     "data": {
      "text/html": [
       "<div>\n",
       "<style scoped>\n",
       "    .dataframe tbody tr th:only-of-type {\n",
       "        vertical-align: middle;\n",
       "    }\n",
       "\n",
       "    .dataframe tbody tr th {\n",
       "        vertical-align: top;\n",
       "    }\n",
       "\n",
       "    .dataframe thead th {\n",
       "        text-align: right;\n",
       "    }\n",
       "</style>\n",
       "<table border=\"1\" class=\"dataframe\">\n",
       "  <thead>\n",
       "    <tr style=\"text-align: right;\">\n",
       "      <th></th>\n",
       "      <th>method</th>\n",
       "      <th>duration_clock</th>\n",
       "      <th>duration_mono</th>\n",
       "      <th>duration_sys</th>\n",
       "      <th>n_mpi_process</th>\n",
       "      <th>x_grid_cuda</th>\n",
       "      <th>y_grid_cuda</th>\n",
       "      <th>x_block_cuda</th>\n",
       "      <th>y_block_cuda</th>\n",
       "      <th>interaction</th>\n",
       "    </tr>\n",
       "  </thead>\n",
       "  <tbody>\n",
       "    <tr>\n",
       "      <th>0</th>\n",
       "      <td>mpi</td>\n",
       "      <td>25.369863</td>\n",
       "      <td>26.240132</td>\n",
       "      <td>26.240129</td>\n",
       "      <td>1.0</td>\n",
       "      <td>NaN</td>\n",
       "      <td>NaN</td>\n",
       "      <td>NaN</td>\n",
       "      <td>NaN</td>\n",
       "      <td>1</td>\n",
       "    </tr>\n",
       "    <tr>\n",
       "      <th>1</th>\n",
       "      <td>mpi</td>\n",
       "      <td>25.261793</td>\n",
       "      <td>26.365506</td>\n",
       "      <td>26.365503</td>\n",
       "      <td>1.0</td>\n",
       "      <td>NaN</td>\n",
       "      <td>NaN</td>\n",
       "      <td>NaN</td>\n",
       "      <td>NaN</td>\n",
       "      <td>2</td>\n",
       "    </tr>\n",
       "    <tr>\n",
       "      <th>2</th>\n",
       "      <td>mpi</td>\n",
       "      <td>25.449287</td>\n",
       "      <td>25.899301</td>\n",
       "      <td>25.899297</td>\n",
       "      <td>1.0</td>\n",
       "      <td>NaN</td>\n",
       "      <td>NaN</td>\n",
       "      <td>NaN</td>\n",
       "      <td>NaN</td>\n",
       "      <td>3</td>\n",
       "    </tr>\n",
       "    <tr>\n",
       "      <th>3</th>\n",
       "      <td>mpi</td>\n",
       "      <td>25.468509</td>\n",
       "      <td>28.011568</td>\n",
       "      <td>28.011564</td>\n",
       "      <td>1.0</td>\n",
       "      <td>NaN</td>\n",
       "      <td>NaN</td>\n",
       "      <td>NaN</td>\n",
       "      <td>NaN</td>\n",
       "      <td>4</td>\n",
       "    </tr>\n",
       "    <tr>\n",
       "      <th>4</th>\n",
       "      <td>mpi</td>\n",
       "      <td>25.365352</td>\n",
       "      <td>26.743685</td>\n",
       "      <td>26.743682</td>\n",
       "      <td>1.0</td>\n",
       "      <td>NaN</td>\n",
       "      <td>NaN</td>\n",
       "      <td>NaN</td>\n",
       "      <td>NaN</td>\n",
       "      <td>5</td>\n",
       "    </tr>\n",
       "    <tr>\n",
       "      <th>...</th>\n",
       "      <td>...</td>\n",
       "      <td>...</td>\n",
       "      <td>...</td>\n",
       "      <td>...</td>\n",
       "      <td>...</td>\n",
       "      <td>...</td>\n",
       "      <td>...</td>\n",
       "      <td>...</td>\n",
       "      <td>...</td>\n",
       "      <td>...</td>\n",
       "    </tr>\n",
       "    <tr>\n",
       "      <th>820</th>\n",
       "      <td>cuda</td>\n",
       "      <td>2.663019</td>\n",
       "      <td>5.104161</td>\n",
       "      <td>5.104159</td>\n",
       "      <td>NaN</td>\n",
       "      <td>128.0</td>\n",
       "      <td>128.0</td>\n",
       "      <td>32.0</td>\n",
       "      <td>32.0</td>\n",
       "      <td>11</td>\n",
       "    </tr>\n",
       "    <tr>\n",
       "      <th>821</th>\n",
       "      <td>cuda</td>\n",
       "      <td>3.168981</td>\n",
       "      <td>7.176261</td>\n",
       "      <td>7.176260</td>\n",
       "      <td>NaN</td>\n",
       "      <td>128.0</td>\n",
       "      <td>128.0</td>\n",
       "      <td>32.0</td>\n",
       "      <td>32.0</td>\n",
       "      <td>12</td>\n",
       "    </tr>\n",
       "    <tr>\n",
       "      <th>822</th>\n",
       "      <td>cuda</td>\n",
       "      <td>2.396536</td>\n",
       "      <td>5.352022</td>\n",
       "      <td>5.352019</td>\n",
       "      <td>NaN</td>\n",
       "      <td>128.0</td>\n",
       "      <td>128.0</td>\n",
       "      <td>32.0</td>\n",
       "      <td>32.0</td>\n",
       "      <td>13</td>\n",
       "    </tr>\n",
       "    <tr>\n",
       "      <th>823</th>\n",
       "      <td>cuda</td>\n",
       "      <td>2.502332</td>\n",
       "      <td>5.044418</td>\n",
       "      <td>5.044417</td>\n",
       "      <td>NaN</td>\n",
       "      <td>128.0</td>\n",
       "      <td>128.0</td>\n",
       "      <td>32.0</td>\n",
       "      <td>32.0</td>\n",
       "      <td>14</td>\n",
       "    </tr>\n",
       "    <tr>\n",
       "      <th>824</th>\n",
       "      <td>cuda</td>\n",
       "      <td>2.455324</td>\n",
       "      <td>5.164376</td>\n",
       "      <td>5.164375</td>\n",
       "      <td>NaN</td>\n",
       "      <td>128.0</td>\n",
       "      <td>128.0</td>\n",
       "      <td>32.0</td>\n",
       "      <td>32.0</td>\n",
       "      <td>15</td>\n",
       "    </tr>\n",
       "  </tbody>\n",
       "</table>\n",
       "<p>825 rows × 10 columns</p>\n",
       "</div>"
      ],
      "text/plain": [
       "    method  duration_clock  duration_mono  duration_sys  n_mpi_process  \\\n",
       "0      mpi       25.369863      26.240132     26.240129            1.0   \n",
       "1      mpi       25.261793      26.365506     26.365503            1.0   \n",
       "2      mpi       25.449287      25.899301     25.899297            1.0   \n",
       "3      mpi       25.468509      28.011568     28.011564            1.0   \n",
       "4      mpi       25.365352      26.743685     26.743682            1.0   \n",
       "..     ...             ...            ...           ...            ...   \n",
       "820   cuda        2.663019       5.104161      5.104159            NaN   \n",
       "821   cuda        3.168981       7.176261      7.176260            NaN   \n",
       "822   cuda        2.396536       5.352022      5.352019            NaN   \n",
       "823   cuda        2.502332       5.044418      5.044417            NaN   \n",
       "824   cuda        2.455324       5.164376      5.164375            NaN   \n",
       "\n",
       "     x_grid_cuda  y_grid_cuda  x_block_cuda  y_block_cuda  interaction  \n",
       "0            NaN          NaN           NaN           NaN            1  \n",
       "1            NaN          NaN           NaN           NaN            2  \n",
       "2            NaN          NaN           NaN           NaN            3  \n",
       "3            NaN          NaN           NaN           NaN            4  \n",
       "4            NaN          NaN           NaN           NaN            5  \n",
       "..           ...          ...           ...           ...          ...  \n",
       "820        128.0        128.0          32.0          32.0           11  \n",
       "821        128.0        128.0          32.0          32.0           12  \n",
       "822        128.0        128.0          32.0          32.0           13  \n",
       "823        128.0        128.0          32.0          32.0           14  \n",
       "824        128.0        128.0          32.0          32.0           15  \n",
       "\n",
       "[825 rows x 10 columns]"
      ]
     },
     "execution_count": 11,
     "metadata": {},
     "output_type": "execute_result"
    }
   ],
   "source": [
    "data = pd.read_csv('testes_brutos.csv')\n",
    "data"
   ]
  },
  {
   "cell_type": "markdown",
   "metadata": {},
   "source": [
    "Com os parâmetros acima, a função `run_experiments()` realiza 825 chamadas na linha de comando, gerando um `DataFrame` com\n",
    "o mesmo número de linhas. A função a seguir irá nos ajudar fazendo uma primeira filtragem nos dados, computando algumas estatísticas que serão importantes na análise a seguir."
   ]
  },
  {
   "cell_type": "code",
   "execution_count": 12,
   "metadata": {},
   "outputs": [],
   "source": [
    "def describe_results(data, repetitions = 15):\n",
    "    lista_mpi = []\n",
    "    lista_cuda = []\n",
    "    for i in tqdm(range(0, data.shape[0], 15)):\n",
    "        data_aux = data.iloc[i:(i+14)].describe()\n",
    "        if data.iloc[i].loc['method'] == 'mpi':\n",
    "            lista_mpi.append({\n",
    "                'method': data.iloc[i].loc['method'],\n",
    "                'n_mpi_process': str(data.iloc[i].loc['n_mpi_process']),\n",
    "                'mean_duration_clock': data_aux.loc['mean'][0],\n",
    "                'std_duration_clock': data_aux.loc['std'][0],\n",
    "                'mean_duration_mono': data_aux.loc['mean'][1],\n",
    "                'std_duration_mono': data_aux.loc['std'][1],\n",
    "                'mean_duration_sys': data_aux.loc['mean'][2],\n",
    "                'std_duration_sys': data_aux.loc['std'][2],\n",
    "                'n_interactions': repetitions\n",
    "            })\n",
    "        else:\n",
    "            lista_cuda.append({\n",
    "                'method': data.iloc[i].loc['method'],\n",
    "                'x_grid_cuda': data.iloc[i].loc['x_grid_cuda'],\n",
    "                'y_grid_cuda': data.iloc[i].loc['y_grid_cuda'],\n",
    "                'x_block_cuda': data.iloc[i].loc['x_block_cuda'],\n",
    "                'y_block_cuda': data.iloc[i].loc['y_block_cuda'],\n",
    "                'mean_duration_clock': data_aux.loc['mean'][0],\n",
    "                'std_duration_clock': data_aux.loc['std'][0],\n",
    "                'mean_duration_mono': data_aux.loc['mean'][1],\n",
    "                'std_duration_mono': data_aux.loc['std'][1],\n",
    "                'mean_duration_sys': data_aux.loc['mean'][2],\n",
    "                'std_duration_sys': data_aux.loc['std'][2],\n",
    "                'n_interactions': repetitions          \n",
    "            })\n",
    "            \n",
    "    return {\n",
    "        'mpi':lista_mpi,\n",
    "        'cuda':lista_cuda\n",
    "    }"
   ]
  },
  {
   "cell_type": "markdown",
   "metadata": {},
   "source": [
    "Vamos finalmente executar a função acima passando nossos resultados como argumento e salvar em DataFrames separados as informações sobre as execuções em MPI e sobre as em CUDA:"
   ]
  },
  {
   "cell_type": "code",
   "execution_count": 13,
   "metadata": {},
   "outputs": [
    {
     "name": "stderr",
     "output_type": "stream",
     "text": [
      "100%|██████████| 55/55 [00:01<00:00, 32.44it/s]\n"
     ]
    }
   ],
   "source": [
    "resumo_experimentos = describe_results(data)\n",
    "resumo_mpi = pd.DataFrame(resumo_experimentos['mpi'])\n",
    "resumo_cuda = pd.DataFrame(resumo_experimentos['cuda'])"
   ]
  },
  {
   "cell_type": "markdown",
   "metadata": {},
   "source": [
    "## Vizualização e Análise dos Resultados\n",
    "\n"
   ]
  },
  {
   "cell_type": "markdown",
   "metadata": {},
   "source": [
    "### Analisando resultados individualmente\n",
    "\n",
    "#### Análise MPI\n",
    "Vamos iniciar nossa discussão sobre os resultados do experimento analisando o impacto do número de processos utilizados para a versão MPI.\n",
    "\n",
    "É importante destacar que decidimos utilizar a medição feita pela função em C `clock_gettime()` como padrão em toda a análise feita a seguir."
   ]
  },
  {
   "cell_type": "code",
   "execution_count": 14,
   "metadata": {},
   "outputs": [
    {
     "data": {
      "text/plain": [
       "<ErrorbarContainer object of 3 artists>"
      ]
     },
     "execution_count": 14,
     "metadata": {},
     "output_type": "execute_result"
    },
    {
     "data": {
      "image/png": "[encoded data removed]",
      "text/plain": [
       "<Figure size 432x288 with 1 Axes>"
      ]
     },
     "metadata": {
      "needs_background": "light"
     },
     "output_type": "display_data"
    }
   ],
   "source": [
    "plt.errorbar(resumo_mpi['n_mpi_process'], resumo_mpi['mean_duration_clock'],\n",
    "             yerr = 2*resumo_mpi['std_duration_clock'], fmt='ro')"
   ]
  },
  {
   "cell_type": "markdown",
   "metadata": {},
   "source": [
    "Pode-se observar que os tempos de execução diminuem consideravelmente com o aumento do número de processos utilizados. \n",
    "Observando o intervalo $[9, 64]$ do número de processos utilizados, podemos checar visualmente os intervalos de confiança estimados para a nossa amostra:"
   ]
  },
  {
   "cell_type": "code",
   "execution_count": 15,
   "metadata": {},
   "outputs": [
    {
     "data": {
      "text/plain": [
       "<ErrorbarContainer object of 3 artists>"
      ]
     },
     "execution_count": 15,
     "metadata": {},
     "output_type": "execute_result"
    },
    {
     "data": {
      "image/png": "[encoded data removed]",
      "text/plain": [
       "<Figure size 432x288 with 1 Axes>"
      ]
     },
     "metadata": {
      "needs_background": "light"
     },
     "output_type": "display_data"
    }
   ],
   "source": [
    "plt.xlim([1.9, 8])\n",
    "plt.ylim([2.5, 4.25])\n",
    "plt.errorbar(resumo_mpi['n_mpi_process'], resumo_mpi['mean_duration_clock'],\n",
    "             yerr = 2*resumo_mpi['std_duration_clock'], fmt='ro')"
   ]
  },
  {
   "cell_type": "markdown",
   "metadata": {},
   "source": [
    "Como podemos ver no gráfico acima, uma boa escolha de número de processos usados localmente na execução do programa é de $25$. Isso porque a média de tempo de execução é a mais baixa de todos para esse número de processos, além de que, se comparado a outros candidatos com baixo tempo de execução (49 e 64), o intervalo de confiança mostra-se o menor dentre os três, o que é uma vantagem, porque esperamos que futuros experimentos com este número de processos tenha uma maior \"consistência\" quanto ao tempo de execução. \n",
    "\n",
    "- Número de processos escolhido: 25\n",
    "\n",
    "\n",
    "#### Análise CUDA\n",
    "Para a versão CUDA, faremos um gráfico tridimensional, onde os eixos representam:\n",
    "Eixo x: Raíz quadrada do número de threads executadas por bloco.\n",
    "Eixo y: Raíz quadrada do número de blocos executados por grid.\n",
    "Eixo z: Tempo de execução\n",
    "\n",
    "Essas transformações foram feitas para a melhor visualização do gráfico, sem que precisemos escalar os eixos. "
   ]
  },
  {
   "cell_type": "code",
   "execution_count": 16,
   "metadata": {},
   "outputs": [
    {
     "data": {
      "text/plain": [
       "<mpl_toolkits.mplot3d.art3d.Path3DCollection at 0x7f70489b98d0>"
      ]
     },
     "execution_count": 16,
     "metadata": {},
     "output_type": "execute_result"
    },
    {
     "data": {
      "image/png": "[encoded data removed]",
      "text/plain": [
       "<Figure size 432x288 with 1 Axes>"
      ]
     },
     "metadata": {
      "needs_background": "light"
     },
     "output_type": "display_data"
    }
   ],
   "source": [
    "fig = plt.figure()\n",
    "ax = fig.gca(projection='3d')\n",
    "\n",
    "x = resumo_cuda['x_block_cuda']\n",
    "y = resumo_cuda['x_grid_cuda']\n",
    "z = resumo_cuda['mean_duration_clock']\n",
    "\n",
    "ax.set_xscale('linear')\n",
    "ax.set_yscale('linear')\n",
    "\n",
    "ax.set_xlim(1, 32)\n",
    "ax.set_ylim(1, 32)\n",
    "\n",
    "ax.set_xlabel('√Threads¯/¯block\\'')\n",
    "ax.set_ylabel('√Blocks¯/¯grid\\'')\n",
    "\n",
    "# By using zdir='y', the y value of these points is fixed to the zs value 0\n",
    "# and the (x,y) points are plotted on the x and z axes.\n",
    "\n",
    "ax.scatter(x, y, zs=z, label='points in (x,z)')"
   ]
  },
  {
   "cell_type": "markdown",
   "metadata": {},
   "source": [
    "Também plotamos o tempo de execução pela raíz quadrada do número de threads por bloco, agrupados pela raíz quadrada do número de blocos por grid:"
   ]
  },
  {
   "cell_type": "code",
   "execution_count": 17,
   "metadata": {},
   "outputs": [
    {
     "data": {
      "image/png": "[encoded data removed]",
      "text/plain": [
       "<Figure size 432x288 with 1 Axes>"
      ]
     },
     "metadata": {
      "needs_background": "light"
     },
     "output_type": "display_data"
    }
   ],
   "source": [
    "fig, ax = plt.subplots()\n",
    "ax.set_xscale('log', basex=2)\n",
    "for key, group in resumo_cuda.groupby('x_grid_cuda'):\n",
    "    group.plot('y_block_cuda', 'mean_duration_clock', yerr='std_duration_clock', label=key, ax=ax)   # 2\n",
    "\n",
    "plt.show()"
   ]
  },
  {
   "cell_type": "markdown",
   "metadata": {},
   "source": [
    "Como podemos ver, os melhores candidatos ao valor de tempo de execução do programa são os experimentos com grids $16\\times16$, $32\\times32$, $64\\times64$ e $128\\times128$. Além disso, vamos restringir um número mínimo de $2\\times2$ threads por bloco.\n",
    "\n",
    "Fazendo um gráfico, agora somente com esses experimentos:"
   ]
  },
  {
   "cell_type": "code",
   "execution_count": 18,
   "metadata": {},
   "outputs": [
    {
     "data": {
      "image/png": "[encoded data removed]",
      "text/plain": [
       "<Figure size 432x288 with 1 Axes>"
      ]
     },
     "metadata": {
      "needs_background": "light"
     },
     "output_type": "display_data"
    }
   ],
   "source": [
    "fig, ax = plt.subplots()\n",
    "ax.set_xscale('log', basex=2)\n",
    "for key, group in resumo_cuda.loc[23:][resumo_cuda.loc[23:].x_block_cuda > 1].groupby('x_grid_cuda'):\n",
    "    group.plot('x_block_cuda', 'mean_duration_clock', yerr='std_duration_clock', label=key, ax=ax)   # 2\n",
    "\n",
    "plt.show()"
   ]
  },
  {
   "cell_type": "markdown",
   "metadata": {},
   "source": [
    "E novamente um gráfico para $32\\times32$ e $64\\times64$ blocos por grid:\n"
   ]
  },
  {
   "cell_type": "code",
   "execution_count": 19,
   "metadata": {},
   "outputs": [
    {
     "data": {
      "image/png": "[encoded data removed]",
      "text/plain": [
       "<Figure size 432x288 with 1 Axes>"
      ]
     },
     "metadata": {
      "needs_background": "light"
     },
     "output_type": "display_data"
    }
   ],
   "source": [
    "fig, ax = plt.subplots()\n",
    "ax.set_xscale('log', basex=2)\n",
    "for key, group in resumo_cuda.loc[29:][resumo_cuda.loc[29:].x_block_cuda > 1].groupby('x_grid_cuda'):\n",
    "    group.plot('x_block_cuda', 'mean_duration_clock', yerr='std_duration_clock', label=key, ax=ax)   # 2\n",
    "\n",
    "plt.show()"
   ]
  },
  {
   "cell_type": "markdown",
   "metadata": {},
   "source": [
    "Separando os plots com os experimentos que possuem uma grid $32\\times32$ e $128\\times128$"
   ]
  },
  {
   "cell_type": "code",
   "execution_count": 20,
   "metadata": {},
   "outputs": [
    {
     "data": {
      "image/png": "[encoded data removed]",
      "text/plain": [
       "<Figure size 720x216 with 2 Axes>"
      ]
     },
     "metadata": {
      "needs_background": "light"
     },
     "output_type": "display_data"
    }
   ],
   "source": [
    "fig, ax = plt.subplots(nrows=1, ncols=2, figsize=(10, 3))\n",
    "ax[0].set_xscale('log', basex=2)\n",
    "ax[1].set_xscale('log', basex=2)\n",
    "\n",
    "ax[0].set_ylim(1.5, 5.5)\n",
    "ax[1].set_ylim(1.5, 5.5)\n",
    "\n",
    "cuda_1 = resumo_cuda[resumo_cuda.x_grid_cuda == 32]\n",
    "cuda_2 = resumo_cuda[resumo_cuda.x_grid_cuda == 128]\n",
    "\n",
    "ax[0].errorbar(cuda_1['x_block_cuda'], cuda_1['mean_duration_clock'],\n",
    "             yerr = 2*cuda_1['std_duration_clock'], fmt='ro')\n",
    "ax[1].errorbar(cuda_2['x_block_cuda'], cuda_2['mean_duration_clock'],\n",
    "             yerr = 2*cuda_2['std_duration_clock'], fmt='ro')\n",
    "\n",
    "\n",
    "fig.tight_layout()"
   ]
  },
  {
   "cell_type": "markdown",
   "metadata": {},
   "source": [
    "Podemos ver que há vários candidatos que possuem uma baixa média de tempo de execução, mas existe um destes que possui o menor intervalo de confiança dentre todos.\n",
    "\n",
    "Desta forma, escolhemos como potencial conjunto de parâmetros para executar os experimentos:\n",
    "- Dimensão dos blocos:  $(16, 16)$ \n",
    "- Dimensão da grid:  $(32, 32)$"
   ]
  },
  {
   "cell_type": "markdown",
   "metadata": {},
   "source": [
    "### OpenMPI Vs. CUDA\n",
    "\n",
    "Agora vamos comparar o tempo de execução entre os melhores candidatos da versão em MPI e da versão em CUDA, faznendo comentários a respeito de como um acelerador (GPU) pode impactar na velocidade de execução de um programa, assim como dos potenciais de cada implementação.\n",
    "\n",
    "Para isso, vamos rodar um número maior do que 15 repetições (200 repetições) para cada um dos dois casos, o que pode demorar um tempo, e analisar com gráficos apropriados."
   ]
  },
  {
   "cell_type": "code",
   "execution_count": 22,
   "metadata": {},
   "outputs": [],
   "source": [
    "methods = ['mpi', 'cuda']\n",
    "n_mpis = [25]\n",
    "grids = [(32, 32)]\n",
    "blocks = [(16, 16)]\n",
    "repetitions = 200\n",
    "\n",
    "# brute_bests = run_experiments(methods, n_mpis, grids, blocks, repetitions)"
   ]
  },
  {
   "cell_type": "code",
   "execution_count": 23,
   "metadata": {},
   "outputs": [],
   "source": [
    "# brute_bests = pd.DataFrame(brute_bests)\n",
    "# brute_bests.to_csv('testes_brutos_melhores.csv', index=False)"
   ]
  },
  {
   "cell_type": "code",
   "execution_count": 24,
   "metadata": {},
   "outputs": [],
   "source": [
    "brute_bests = pd.read_csv('testes_brutos_melhores.csv')"
   ]
  },
  {
   "cell_type": "code",
   "execution_count": 25,
   "metadata": {},
   "outputs": [
    {
     "data": {
      "text/plain": [
       "<matplotlib.axes._subplots.AxesSubplot at 0x7f7048570358>"
      ]
     },
     "execution_count": 25,
     "metadata": {},
     "output_type": "execute_result"
    },
    {
     "data": {
      "image/png": "[encoded data removed]",
      "text/plain": [
       "<Figure size 432x288 with 1 Axes>"
      ]
     },
     "metadata": {
      "needs_background": "light"
     },
     "output_type": "display_data"
    }
   ],
   "source": [
    "seaborn.boxplot(x=brute_bests['method'], y=brute_bests['duration_clock'].astype('float'))"
   ]
  },
  {
   "cell_type": "markdown",
   "metadata": {},
   "source": [
    "Como podemos ver no gráfico acima, o desempenho do algoritmo implementado em CUDA com auxílio de um acelerador é nitidamente superior se comparado aos resultados da implementação com OpenMPI."
   ]
  },
  {
   "cell_type": "markdown",
   "metadata": {},
   "source": [
    "## Conclusões e observações finais"
   ]
  },
  {
   "cell_type": "markdown",
   "metadata": {},
   "source": [
    "### Resultados\n",
    "\n",
    "Como pôde ser visto, não foi estritamente aumentando o número de threads ou processos rodando simultaneamente que o desempenho dos programas melhorou. O tempo de execução de um programa depende de inúmeros fatores, e no nosso caso, principalmente da latência com que as informações são trocadas, já que esse tipo de comunicação precisa ser estabelecida entre processos na versão OpenMPI, e entre o host e device na versão em CUDA. Apesar disso, conseguimos montar uma estratégia para selecionar e sugerir quais parâmetros podem ser satisfatórios para que o tempo de execução de um programa seja minimizado, dentro do possível, além de mostrarmos como a variação destes parâmetros impacta no tempo de execução dos mesmos. \n",
    "\n",
    "####  Potencial dos pacotes\n",
    "\n",
    "Como visto anteriormente, nos experimentos realizados em uma mesma máquina, o desempenho da versão em CUDA foi nitidamente superior ao desempenho da versão implementada em MPI. Apesar disso, sabemos que o OpenMPI é feito com o intuito de utilizar processamento paralelo em mais de uma máquina, e até em mais de uma rede simultaneamente, coisa que não pudemos incluir nos experimentos devido à falta de disponibilidade de acesso a outras máquinas, seja na mesma rede, seja em outra.\n",
    "\n",
    "É por este motivo que também sabemos que o desempenho em potencial da versão implementada em OpenMPI é praticamente ilimitada, e depende basicamente do número de computadores utilizados simultaneamente, do número de processos abertos em cada computador e também da velocidade de tráfego de informação entre os processos.\n",
    "\n",
    "Também sabemos que a versão em CUDA pode oferecer um desempenho melhor ainda se utilizarmos GPUs mais poderosas ou modernas, ou até mais de uma GPU simultaneamente, coisa que poderia ser implementada até utilizando CUDA + OpenMPI. Na verdade, o ideal é que isso fosse feito, já que a máquina neozil da rede Linux oferece duas GPUs localmente. E o desempenho seria maior ainda se pudéssemos conectar várias máquinas com uma ou mais GPUs simultaneamnete.\n",
    "\n",
    "### Infra Estrutura de trabalho remoto utilizando SSH\n",
    "\n",
    "A realização deste trabalho demandou muito poder computacional. Como nenhum dos elementos da dupla possui uma máquina adequada para realizar os experimentos pedidos, precisamos aprender um pouco sobre o uso remoto da rede IME e da rede Linux. Como\n",
    "nesse momento em que a grande maioria da comunidade IME não consegue estar fisicamente presente no instituto, resolvemos fazer\n",
    "uma pequena descrição de como utilizamos a máquina neozin da rede Linux para realizar nossos experimentos.\n",
    "\n",
    "Em primeiro lugar, gostaríamos de agradecer à comunidade, que \n",
    "mantém [esta página](https://wiki.ime.usp.br/) com diversas informações úteis, inclusive \n",
    "sobre o acesso remoto às redes do IME. Mais especificamente, \n",
    "[esta página](https://wiki.ime.usp.br/servicos:processamento) contém uma lista das máquinas do IME com grande poder computacional e orientações de como utilizá-las. Também gostaríamos de agradecer aos responsáveis pela manutenção [desta página](https://linux.ime.usp.br/wiki/doku.php?id=faq:cuda), que contém mais detalhes sobre a máquina neozil e sua utilização.\n",
    "\n",
    "#### Abrindo uma porta para acesso local\n",
    "\n",
    "Mesmo com a interface gráfica de um navegador de internet, ainda temos que lidar com algum tipo de delay, o que torna um tanto desconfortável editar um documento como este. Para resolver este problema, utilizamos o comando\n",
    "\n",
    "``` ssh -NL [port]:localhost:[port] [seulogin]@brucutuiv.ime.usp.br```\n",
    "\n",
    "para que possamos acessar o servidor oferecido pelo Jupyter localmente!"
   ]
  },
  {
   "cell_type": "code",
   "execution_count": null,
   "metadata": {},
   "outputs": [],
   "source": []
  }
 ],
 "metadata": {
  "kernelspec": {
   "display_name": "Python 3",
   "language": "python",
   "name": "python3"
  },
  "name": "Untitled.ipynb"
 },
 "nbformat": 4,
 "nbformat_minor": 4
}
